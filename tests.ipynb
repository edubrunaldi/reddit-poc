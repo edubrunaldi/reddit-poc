{
 "cells": [
  {
   "cell_type": "code",
   "execution_count": 27,
   "metadata": {
    "collapsed": true,
    "ExecuteTime": {
     "end_time": "2023-10-27T23:20:55.043211700Z",
     "start_time": "2023-10-27T23:20:54.892615200Z"
    }
   },
   "outputs": [
    {
     "name": "stdout",
     "output_type": "stream",
     "text": [
      "[B@1806862f\r\n"
     ]
    }
   ],
   "source": [
    "import org.bouncycastle.crypto.generators.BCrypt\n",
    "private val salt = \"1234567890123456\".toByteArray()\n",
    "private val COST = 10\n",
    "fun hashPassword(password: String): String =\n",
    "        BCrypt.generate(password.toByteArray(), salt, COST)\n",
    "            .toString()\n",
    "\n",
    "println(hashPassword(\"123@abcABC\"))"
   ]
  },
  {
   "cell_type": "code",
   "execution_count": null,
   "outputs": [],
   "source": [],
   "metadata": {
    "collapsed": false
   }
  }
 ],
 "metadata": {
  "kernelspec": {
   "display_name": "Kotlin",
   "language": "kotlin",
   "name": "kotlin"
  },
  "language_info": {
   "name": "kotlin",
   "version": "1.9.0",
   "mimetype": "text/x-kotlin",
   "file_extension": ".kt",
   "pygments_lexer": "kotlin",
   "codemirror_mode": "text/x-kotlin",
   "nbconvert_exporter": ""
  }
 },
 "nbformat": 4,
 "nbformat_minor": 0
}
